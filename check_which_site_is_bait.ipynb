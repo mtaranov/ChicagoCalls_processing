{
 "cells": [
  {
   "cell_type": "code",
   "execution_count": 5,
   "metadata": {
    "collapsed": false,
    "scrolled": true
   },
   "outputs": [
    {
     "name": "stdout",
     "output_type": "stream",
     "text": [
      "The autoreload extension is already loaded. To reload it, use:\n",
      "  %reload_ext autoreload\n"
     ]
    }
   ],
   "source": [
    "%matplotlib inline\n",
    "%load_ext autoreload\n",
    "%autoreload 2\n",
    "\n",
    "from sets import Set"
   ]
  },
  {
   "cell_type": "code",
   "execution_count": 11,
   "metadata": {
    "collapsed": true
   },
   "outputs": [],
   "source": [
    "DATADIR='/mnt/lab_data/kundaje/mtaranov/ChicagoCalls/Rds_beds_txt/'\n",
    "ContactsFileD0=DATADIR+'D0_D2D8_merge_BaitToOther.txt'\n",
    "ContactsFileD3=DATADIR+'D3_D2D8_merge_BaitToOther.txt'\n",
    "ContactsFileD6=DATADIR+'D6_D2D8_merge_BaitToOther.txt'\n",
    "PromoterCaptureFile='/mnt/lab_data/kundaje/mtaranov/ChicagoCalls/PromoterCapture_Digest_Human_HindIII_baits_ID.bed'"
   ]
  },
  {
   "cell_type": "code",
   "execution_count": 7,
   "metadata": {
    "collapsed": false
   },
   "outputs": [],
   "source": [
    "def check_which_site_is_baits(PromoterCaptureFile, ContactsFile):\n",
    "    baits=Set([])\n",
    "    for line in open(PromoterCaptureFile,'r'):\n",
    "        words=line.rstrip().split()\n",
    "        baits.add(words[3])\n",
    "\n",
    "    baits12=0\n",
    "    baits1=0\n",
    "    baits2=0\n",
    "    nobaits=0\n",
    "    for line in open(ContactsFile,'r'):\n",
    "        words=line.rstrip().split()\n",
    "        frag1 = words[0]\n",
    "        frag2 = words[1]\n",
    "        \n",
    "        if (frag1 in baits and frag2 in baits):\n",
    "            baits12 += 1\n",
    "        if (frag1 in baits and frag2 not in baits):\n",
    "            baits1 += 1\n",
    "        if (frag1 not in baits and frag2 in baits):\n",
    "            baits2 += 1\n",
    "        if (frag1 not in baits and frag2 not in baits):\n",
    "            nobaits += 1  \n",
    "    print baits12, \" baits12\"\n",
    "    print baits1, \" baits1\"\n",
    "    print baits2, \" baits2\"\n",
    "    print nobaits, \" nobaits\"\n",
    "    print baits12+baits1+baits2+nobaits, \" total\""
   ]
  },
  {
   "cell_type": "code",
   "execution_count": 8,
   "metadata": {
    "collapsed": false,
    "scrolled": true
   },
   "outputs": [
    {
     "name": "stdout",
     "output_type": "stream",
     "text": [
      "0  baits12\n",
      "62380630  baits1\n",
      "0  baits2\n",
      "0  nobaits\n",
      "62380630  total\n"
     ]
    }
   ],
   "source": [
    "check_which_site_is_baits(PromoterCaptureFile, ContactsFileD0)"
   ]
  },
  {
   "cell_type": "code",
   "execution_count": 12,
   "metadata": {
    "collapsed": false
   },
   "outputs": [
    {
     "name": "stdout",
     "output_type": "stream",
     "text": [
      "0  baits12\n",
      "58567333  baits1\n",
      "0  baits2\n",
      "0  nobaits\n",
      "58567333  total\n"
     ]
    }
   ],
   "source": [
    "check_which_site_is_baits(PromoterCaptureFile, ContactsFileD3)"
   ]
  },
  {
   "cell_type": "code",
   "execution_count": 13,
   "metadata": {
    "collapsed": false
   },
   "outputs": [
    {
     "name": "stdout",
     "output_type": "stream",
     "text": [
      "0  baits12\n",
      "57939966  baits1\n",
      "0  baits2\n",
      "0  nobaits\n",
      "57939966  total\n"
     ]
    }
   ],
   "source": [
    "check_which_site_is_baits(PromoterCaptureFile, ContactsFileD6)"
   ]
  }
 ],
 "metadata": {
  "anaconda-cloud": {},
  "kernelspec": {
   "display_name": "Python [default]",
   "language": "python",
   "name": "python2"
  },
  "language_info": {
   "codemirror_mode": {
    "name": "ipython",
    "version": 2
   },
   "file_extension": ".py",
   "mimetype": "text/x-python",
   "name": "python",
   "nbconvert_exporter": "python",
   "pygments_lexer": "ipython2",
   "version": "2.7.12"
  }
 },
 "nbformat": 4,
 "nbformat_minor": 0
}
