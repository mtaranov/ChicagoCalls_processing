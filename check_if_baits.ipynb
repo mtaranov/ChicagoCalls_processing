{
 "cells": [
  {
   "cell_type": "code",
   "execution_count": 29,
   "metadata": {
    "collapsed": false,
    "scrolled": true
   },
   "outputs": [
    {
     "name": "stdout",
     "output_type": "stream",
     "text": [
      "The autoreload extension is already loaded. To reload it, use:\n",
      "  %reload_ext autoreload\n"
     ]
    }
   ],
   "source": [
    "%matplotlib inline\n",
    "%load_ext autoreload\n",
    "%autoreload 2\n",
    "\n",
    "from sets import Set"
   ]
  },
  {
   "cell_type": "code",
   "execution_count": 38,
   "metadata": {
    "collapsed": true
   },
   "outputs": [],
   "source": [
    "DATADIR='/mnt/lab_data/kundaje/mtaranov/ChicagoCalls/'\n",
    "ContactsFileD0=DATADIR+'D0_D2D8_merge_BaitToBait.txt'\n",
    "ContactsFileD3=DATADIR+'D3_D2D8_merge_BaitToBait.txt'\n",
    "ContactsFileD6=DATADIR+'D6_D2D8_merge_BaitToBait.txt'\n",
    "PromoterCaptureFile=DATADIR+'PromoterCapture_Digest_Human_HindIII_baits_ID.bed'"
   ]
  },
  {
   "cell_type": "code",
   "execution_count": 36,
   "metadata": {
    "collapsed": false
   },
   "outputs": [],
   "source": [
    "def check_if_baits(PromoterCaptureFile, ContactsFile):\n",
    "    baits=Set([])\n",
    "    for line in open(PromoterCaptureFile,'r'):\n",
    "        words=line.rstrip().split()\n",
    "        baits.add(words[3])\n",
    "\n",
    "    frags=Set([])\n",
    "    for line in open(ContactsFile,'r'):\n",
    "        words=line.rstrip().split()\n",
    "        frags.add(words[0])\n",
    "        frags.add(words[1])\n",
    "        \n",
    "    if len(baits & frags) == len(frags):\n",
    "        print \"OK. All \"+ str(len(frags))+ \" contacting fragments are bites\"\n",
    "    else:\n",
    "        print \"not OK. Some are not baits\"\n"
   ]
  },
  {
   "cell_type": "code",
   "execution_count": 37,
   "metadata": {
    "collapsed": false
   },
   "outputs": [
    {
     "name": "stdout",
     "output_type": "stream",
     "text": [
      "OK. All 22071 contacting fragments are bites\n"
     ]
    }
   ],
   "source": [
    "check_if_baits(PromoterCaptureFile, ContactsFileD0)"
   ]
  },
  {
   "cell_type": "code",
   "execution_count": 39,
   "metadata": {
    "collapsed": false
   },
   "outputs": [
    {
     "name": "stdout",
     "output_type": "stream",
     "text": [
      "OK. All 22071 contacting fragments are bites\n"
     ]
    }
   ],
   "source": [
    "check_if_baits(PromoterCaptureFile, ContactsFileD3)"
   ]
  },
  {
   "cell_type": "code",
   "execution_count": 40,
   "metadata": {
    "collapsed": false
   },
   "outputs": [
    {
     "name": "stdout",
     "output_type": "stream",
     "text": [
      "OK. All 22067 contacting fragments are bites\n"
     ]
    }
   ],
   "source": [
    "check_if_baits(PromoterCaptureFile, ContactsFileD6)"
   ]
  },
  {
   "cell_type": "code",
   "execution_count": null,
   "metadata": {
    "collapsed": true
   },
   "outputs": [],
   "source": []
  }
 ],
 "metadata": {
  "anaconda-cloud": {},
  "kernelspec": {
   "display_name": "Python [default]",
   "language": "python",
   "name": "python2"
  },
  "language_info": {
   "codemirror_mode": {
    "name": "ipython",
    "version": 2
   },
   "file_extension": ".py",
   "mimetype": "text/x-python",
   "name": "python",
   "nbconvert_exporter": "python",
   "pygments_lexer": "ipython2",
   "version": "2.7.12"
  }
 },
 "nbformat": 4,
 "nbformat_minor": 0
}
