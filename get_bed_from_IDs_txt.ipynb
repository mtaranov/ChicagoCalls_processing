{
 "cells": [
  {
   "cell_type": "code",
   "execution_count": 1,
   "metadata": {
    "collapsed": false
   },
   "outputs": [],
   "source": [
    "%matplotlib inline\n",
    "%load_ext autoreload\n",
    "%autoreload 2\n",
    "\n",
    "import csv  "
   ]
  },
  {
   "cell_type": "code",
   "execution_count": 2,
   "metadata": {
    "collapsed": true
   },
   "outputs": [],
   "source": [
    "DATADIR='/mnt/lab_data/kundaje/mtaranov/ChicagoCalls/Rds_beds_txt/'\n",
    "frag_bed_file='/mnt/lab_data/kundaje/mtaranov/ChicagoCalls/Digest_Human_HindIII.6col.bed'"
   ]
  },
  {
   "cell_type": "code",
   "execution_count": 3,
   "metadata": {
    "collapsed": false
   },
   "outputs": [],
   "source": [
    "def get_bed(frag_bed_file, contacts_file, output_file):\n",
    "    frag_dict={}\n",
    "    for line in open(frag_bed_file,'r'):\n",
    "        words=line.rstrip().split()\n",
    "        chr=words[0]\n",
    "        start=words[1]\n",
    "        end=words[2]\n",
    "        frag_id=words[4]\n",
    "        frag_dict.update({frag_id:[chr, start, end]})\n",
    "    for line in open(contacts_file,'r'):\n",
    "        words=line.rstrip().split()\n",
    "        frag_id1=words[0]\n",
    "        frag_id2=words[1]\n",
    "        score=words[2]\n",
    "        with open(output_file, 'a') as outcsv:\n",
    "            writer = csv.writer(outcsv, delimiter='\\t', quotechar='|', quoting=csv.QUOTE_MINIMAL, lineterminator='\\n')\n",
    "            writer.writerow(frag_dict[frag_id1] + frag_dict[frag_id2] + [score] +[frag_id1] + [frag_id2])"
   ]
  },
  {
   "cell_type": "code",
   "execution_count": 6,
   "metadata": {
    "collapsed": false
   },
   "outputs": [
    {
     "ename": "KeyboardInterrupt",
     "evalue": "",
     "output_type": "error",
     "traceback": [
      "\u001b[0;31m---------------------------------------------------------------------------\u001b[0m",
      "\u001b[0;31mKeyboardInterrupt\u001b[0m                         Traceback (most recent call last)",
      "\u001b[0;32m<ipython-input-6-8a5ff17aecfe>\u001b[0m in \u001b[0;36m<module>\u001b[0;34m()\u001b[0m\n\u001b[1;32m      3\u001b[0m \u001b[0mcontacts_file_D0\u001b[0m\u001b[0;34m=\u001b[0m\u001b[0mDATADIR\u001b[0m\u001b[0;34m+\u001b[0m\u001b[0;34m'D0_D2D8_merge_BaitToOther.txt'\u001b[0m\u001b[0;34m\u001b[0m\u001b[0m\n\u001b[1;32m      4\u001b[0m \u001b[0moutput_file_D0\u001b[0m\u001b[0;34m=\u001b[0m\u001b[0mDATADIR\u001b[0m\u001b[0;34m+\u001b[0m\u001b[0;34m'D0_D2D8_merge_BaitToOther.bed'\u001b[0m\u001b[0;34m\u001b[0m\u001b[0m\n\u001b[0;32m----> 5\u001b[0;31m \u001b[0mget_bed\u001b[0m\u001b[0;34m(\u001b[0m\u001b[0mfrag_bed_file\u001b[0m\u001b[0;34m,\u001b[0m \u001b[0mcontacts_file_D0\u001b[0m\u001b[0;34m,\u001b[0m \u001b[0moutput_file_D0\u001b[0m\u001b[0;34m)\u001b[0m\u001b[0;34m\u001b[0m\u001b[0m\n\u001b[0m",
      "\u001b[0;32m<ipython-input-3-f38a493e0d1a>\u001b[0m in \u001b[0;36mget_bed\u001b[0;34m(frag_bed_file, contacts_file, output_file)\u001b[0m\n\u001b[1;32m     15\u001b[0m         \u001b[0;32mwith\u001b[0m \u001b[0mopen\u001b[0m\u001b[0;34m(\u001b[0m\u001b[0moutput_file\u001b[0m\u001b[0;34m,\u001b[0m \u001b[0;34m'a'\u001b[0m\u001b[0;34m)\u001b[0m \u001b[0;32mas\u001b[0m \u001b[0moutcsv\u001b[0m\u001b[0;34m:\u001b[0m\u001b[0;34m\u001b[0m\u001b[0m\n\u001b[1;32m     16\u001b[0m             \u001b[0mwriter\u001b[0m \u001b[0;34m=\u001b[0m \u001b[0mcsv\u001b[0m\u001b[0;34m.\u001b[0m\u001b[0mwriter\u001b[0m\u001b[0;34m(\u001b[0m\u001b[0moutcsv\u001b[0m\u001b[0;34m,\u001b[0m \u001b[0mdelimiter\u001b[0m\u001b[0;34m=\u001b[0m\u001b[0;34m'\\t'\u001b[0m\u001b[0;34m,\u001b[0m \u001b[0mquotechar\u001b[0m\u001b[0;34m=\u001b[0m\u001b[0;34m'|'\u001b[0m\u001b[0;34m,\u001b[0m \u001b[0mquoting\u001b[0m\u001b[0;34m=\u001b[0m\u001b[0mcsv\u001b[0m\u001b[0;34m.\u001b[0m\u001b[0mQUOTE_MINIMAL\u001b[0m\u001b[0;34m,\u001b[0m \u001b[0mlineterminator\u001b[0m\u001b[0;34m=\u001b[0m\u001b[0;34m'\\n'\u001b[0m\u001b[0;34m)\u001b[0m\u001b[0;34m\u001b[0m\u001b[0m\n\u001b[0;32m---> 17\u001b[0;31m             \u001b[0mwriter\u001b[0m\u001b[0;34m.\u001b[0m\u001b[0mwriterow\u001b[0m\u001b[0;34m(\u001b[0m\u001b[0mfrag_dict\u001b[0m\u001b[0;34m[\u001b[0m\u001b[0mfrag_id1\u001b[0m\u001b[0;34m]\u001b[0m \u001b[0;34m+\u001b[0m \u001b[0mfrag_dict\u001b[0m\u001b[0;34m[\u001b[0m\u001b[0mfrag_id2\u001b[0m\u001b[0;34m]\u001b[0m \u001b[0;34m+\u001b[0m \u001b[0;34m[\u001b[0m\u001b[0mscore\u001b[0m\u001b[0;34m]\u001b[0m \u001b[0;34m+\u001b[0m\u001b[0;34m[\u001b[0m\u001b[0mfrag_id1\u001b[0m\u001b[0;34m]\u001b[0m \u001b[0;34m+\u001b[0m \u001b[0;34m[\u001b[0m\u001b[0mfrag_id2\u001b[0m\u001b[0;34m]\u001b[0m\u001b[0;34m)\u001b[0m\u001b[0;34m\u001b[0m\u001b[0m\n\u001b[0m",
      "\u001b[0;31mKeyboardInterrupt\u001b[0m: "
     ]
    }
   ],
   "source": [
    "#contacts_file_D0=DATADIR+'D0_D2D8_merge_BaitToBait.txt'\n",
    "#output_file_D0=DATADIR+'D0_D2D8_merge_BaitToBait.bed'\n",
    "contacts_file_D0=DATADIR+'D0_D2D8_merge_BaitToOther.txt'\n",
    "output_file_D0=DATADIR+'D0_D2D8_merge_BaitToOther.bed'\n",
    "get_bed(frag_bed_file, contacts_file_D0, output_file_D0)"
   ]
  },
  {
   "cell_type": "code",
   "execution_count": null,
   "metadata": {
    "collapsed": true
   },
   "outputs": [],
   "source": [
    "#contacts_file_D3=DATADIR+'D3_D2D8_merge_BaitToBait.txt'\n",
    "#output_file_D3=DATADIR+'D3_D2D8_merge_BaitToBait.bed'\n",
    "contacts_file_D0=DATADIR+'D3_D2D8_merge_BaitToOther.txt'\n",
    "output_file_D0=DATADIR+'D3_D2D8_merge_BaitToOther.bed'\n",
    "get_bed(frag_bed_file, contacts_file_D3, output_file_D3)"
   ]
  },
  {
   "cell_type": "code",
   "execution_count": null,
   "metadata": {
    "collapsed": true
   },
   "outputs": [],
   "source": [
    "#contacts_file_D6=DATADIR+'D6_D2D8_merge_BaitToBait.txt'\n",
    "#output_file_D6=DATADIR+'D6_D2D8_merge_BaitToBait.bed'\n",
    "contacts_file_D0=DATADIR+'D6_D2D8_merge_BaitToOther.txt'\n",
    "output_file_D0=DATADIR+'D6_D2D8_merge_BaitToOther.bed'\n",
    "get_bed(frag_bed_file, contacts_file_D6, output_file_D6)"
   ]
  }
 ],
 "metadata": {
  "anaconda-cloud": {},
  "kernelspec": {
   "display_name": "Python [default]",
   "language": "python",
   "name": "python2"
  },
  "language_info": {
   "codemirror_mode": {
    "name": "ipython",
    "version": 2
   },
   "file_extension": ".py",
   "mimetype": "text/x-python",
   "name": "python",
   "nbconvert_exporter": "python",
   "pygments_lexer": "ipython2",
   "version": "2.7.12"
  }
 },
 "nbformat": 4,
 "nbformat_minor": 0
}
